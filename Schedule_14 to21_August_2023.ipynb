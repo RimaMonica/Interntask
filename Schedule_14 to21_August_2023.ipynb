{
 "cells": [
  {
   "attachments": {},
   "cell_type": "markdown",
   "id": "eb69449a",
   "metadata": {},
   "source": [
    "14 to 21_August_2023\n",
    "\n",
    "1. Workshop code (GitHub): \n",
    "(i) Fixing loss fluctuations  \n",
    "(ii) Tuning hyperparameters [TensorFlow] \n",
    "(iii) Plotting learning curve [TensorFlow + Pytorch]\n",
    "2. PINN Conception\n"
   ]
  }
 ],
 "metadata": {
  "kernelspec": {
   "display_name": "Python 3 (ipykernel)",
   "language": "python",
   "name": "python3"
  },
  "language_info": {
   "codemirror_mode": {
    "name": "ipython",
    "version": 3
   },
   "file_extension": ".py",
   "mimetype": "text/x-python",
   "name": "python",
   "nbconvert_exporter": "python",
   "pygments_lexer": "ipython3",
   "version": "3.10.9"
  }
 },
 "nbformat": 4,
 "nbformat_minor": 5
}
