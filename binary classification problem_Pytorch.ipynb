{
 "cells": [
  {
   "cell_type": "markdown",
   "id": "a34a5184",
   "metadata": {},
   "source": [
    "# Problem statement: It is a binary classification problem (onset of diabetes as 1 or not as 0) "
   ]
  },
  {
   "cell_type": "markdown",
   "id": "5b2b1d30",
   "metadata": {},
   "source": [
    "\n",
    "1. Importing required libraries\n",
    "2. Data pre-processing \n",
    "  (i) Access and read data file (load the dataset) / or originate data \n",
    "  *(ii)Data scalling  \n",
    "  (iii)Data splitting \n",
    "  (iv)Converting data into Pytorch tensor \n",
    "3. Modeling \n",
    "  (i) Building or creating model \n",
    "  (ii) Compile the model \n",
    "  (iii)Evaluate the model \n",
    "  (iv) Save the model \n",
    "4. Plotting \n",
    "\n",
    "*( train the model and evaluate the model)\n",
    "we can train and evaluate model on same or different data\n"
   ]
  },
  {
   "cell_type": "markdown",
   "id": "e60bd836",
   "metadata": {},
   "source": [
    "# import required libraries"
   ]
  },
  {
   "cell_type": "code",
   "execution_count": 1,
   "id": "76c4b22d",
   "metadata": {},
   "outputs": [],
   "source": [
    "import os\n",
    "os.environ['KMP_DUPLICATE_LIB_OK']='True'\n",
    "import numpy as np\n",
    "import torch\n",
    "import torch.nn as nn\n",
    "import torch.optim as optim\n",
    "import matplotlib.pyplot as plt"
   ]
  },
  {
   "cell_type": "markdown",
   "id": "e5f36bb7",
   "metadata": {},
   "source": [
    "# Data pre-processing \n",
    " #Access and read data file (load the dataset)\n",
    " #Data splitting (split into input (X) and output (y) variables)"
   ]
  },
  {
   "cell_type": "code",
   "execution_count": 2,
   "id": "4ef3ee64",
   "metadata": {},
   "outputs": [
    {
     "name": "stdout",
     "output_type": "stream",
     "text": [
      "[[  6.    148.     72.    ...   0.627  50.      1.   ]\n",
      " [  1.     85.     66.    ...   0.351  31.      0.   ]\n",
      " [  8.    183.     64.    ...   0.672  32.      1.   ]\n",
      " ...\n",
      " [  5.    121.     72.    ...   0.245  30.      0.   ]\n",
      " [  1.    126.     60.    ...   0.349  47.      1.   ]\n",
      " [  1.     93.     70.    ...   0.315  23.      0.   ]]\n",
      "[[  6.    148.     72.    ...  33.6     0.627  50.   ]\n",
      " [  1.     85.     66.    ...  26.6     0.351  31.   ]\n",
      " [  8.    183.     64.    ...  23.3     0.672  32.   ]\n",
      " ...\n",
      " [  5.    121.     72.    ...  26.2     0.245  30.   ]\n",
      " [  1.    126.     60.    ...  30.1     0.349  47.   ]\n",
      " [  1.     93.     70.    ...  30.4     0.315  23.   ]]\n",
      "[1. 0. 1. 0. 1. 0. 1. 0. 1. 1. 0. 1. 0. 1. 1. 1. 1. 1. 0. 1. 0. 0. 1. 1.\n",
      " 1. 1. 1. 0. 0. 0. 0. 1. 0. 0. 0. 0. 0. 1. 1. 1. 0. 0. 0. 1. 0. 1. 0. 0.\n",
      " 1. 0. 0. 0. 0. 1. 0. 0. 1. 0. 0. 0. 0. 1. 0. 0. 1. 0. 1. 0. 0. 0. 1. 0.\n",
      " 1. 0. 0. 0. 0. 0. 1. 0. 0. 0. 0. 0. 1. 0. 0. 0. 1. 0. 0. 0. 0. 1. 0. 0.\n",
      " 0. 0. 0. 1. 1. 0. 0. 0. 0. 0. 0. 0. 0. 1. 1. 1. 0. 0. 1. 1. 1. 0. 0. 0.\n",
      " 1. 0. 0. 0. 1. 1. 0. 0. 1. 1. 1. 1. 1. 0. 0. 0. 0. 0. 0. 0. 0. 0. 0. 1.\n",
      " 0. 0. 0. 0. 0. 0. 0. 0. 1. 0. 1. 1. 0. 0. 0. 1. 0. 0. 0. 0. 1. 1. 0. 0.\n",
      " 0. 0. 1. 1. 0. 0. 0. 1. 0. 1. 0. 1. 0. 0. 0. 0. 0. 1. 1. 1. 1. 1. 0. 0.\n",
      " 1. 1. 0. 1. 0. 1. 1. 1. 0. 0. 0. 0. 0. 0. 1. 1. 0. 1. 0. 0. 0. 1. 1. 1.\n",
      " 1. 0. 1. 1. 1. 1. 0. 0. 0. 0. 0. 1. 0. 0. 1. 1. 0. 0. 0. 1. 1. 1. 1. 0.\n",
      " 0. 0. 1. 1. 0. 1. 0. 0. 0. 0. 0. 0. 0. 0. 1. 1. 0. 0. 0. 1. 0. 1. 0. 0.\n",
      " 1. 0. 1. 0. 0. 1. 1. 0. 0. 0. 0. 0. 1. 0. 0. 0. 1. 0. 0. 1. 1. 0. 0. 1.\n",
      " 0. 0. 0. 1. 1. 1. 0. 0. 1. 0. 1. 0. 1. 1. 0. 1. 0. 0. 1. 0. 1. 1. 0. 0.\n",
      " 1. 0. 1. 0. 0. 1. 0. 1. 0. 1. 1. 1. 0. 0. 1. 0. 1. 0. 0. 0. 1. 0. 0. 0.\n",
      " 0. 1. 1. 1. 0. 0. 0. 0. 0. 0. 0. 0. 0. 1. 0. 0. 0. 0. 0. 1. 1. 1. 0. 1.\n",
      " 1. 0. 0. 1. 0. 0. 1. 0. 0. 1. 1. 0. 0. 0. 0. 1. 0. 0. 1. 0. 0. 0. 0. 0.\n",
      " 0. 0. 1. 1. 1. 0. 0. 1. 0. 0. 1. 0. 0. 1. 0. 1. 1. 0. 1. 0. 1. 0. 1. 0.\n",
      " 1. 1. 0. 0. 0. 0. 1. 1. 0. 1. 0. 1. 0. 0. 0. 0. 1. 1. 0. 1. 0. 1. 0. 0.\n",
      " 0. 0. 0. 1. 0. 0. 0. 0. 1. 0. 0. 1. 1. 1. 0. 0. 1. 0. 0. 1. 0. 0. 0. 1.\n",
      " 0. 0. 1. 0. 0. 0. 0. 0. 0. 0. 0. 0. 1. 0. 0. 0. 0. 0. 0. 0. 1. 0. 0. 0.\n",
      " 1. 0. 0. 0. 1. 1. 0. 0. 0. 0. 0. 0. 0. 1. 0. 0. 0. 0. 1. 0. 0. 0. 1. 0.\n",
      " 0. 0. 1. 0. 0. 0. 1. 0. 0. 0. 0. 1. 1. 0. 0. 0. 0. 0. 0. 1. 0. 0. 0. 0.\n",
      " 0. 0. 0. 0. 0. 0. 0. 1. 0. 0. 0. 1. 1. 1. 1. 0. 0. 1. 1. 0. 0. 0. 0. 0.\n",
      " 0. 0. 0. 0. 0. 0. 0. 0. 1. 1. 0. 0. 0. 0. 0. 0. 0. 1. 0. 0. 0. 0. 0. 0.\n",
      " 0. 1. 0. 1. 1. 0. 0. 0. 1. 0. 1. 0. 1. 0. 1. 0. 1. 0. 0. 1. 0. 0. 1. 0.\n",
      " 0. 0. 0. 1. 1. 0. 1. 0. 0. 0. 0. 1. 1. 0. 1. 0. 0. 0. 1. 1. 0. 0. 0. 0.\n",
      " 0. 0. 0. 0. 0. 0. 1. 0. 0. 0. 0. 1. 0. 0. 1. 0. 0. 0. 1. 0. 0. 0. 1. 1.\n",
      " 1. 0. 0. 0. 0. 0. 0. 1. 0. 0. 0. 1. 0. 1. 1. 1. 1. 0. 1. 1. 0. 0. 0. 0.\n",
      " 0. 0. 0. 1. 1. 0. 1. 0. 0. 1. 0. 1. 0. 0. 0. 0. 0. 1. 0. 1. 0. 1. 0. 1.\n",
      " 1. 0. 0. 0. 0. 1. 1. 0. 0. 0. 1. 0. 1. 1. 0. 0. 1. 0. 0. 1. 1. 0. 0. 1.\n",
      " 0. 0. 1. 0. 0. 0. 0. 0. 0. 0. 1. 1. 1. 0. 0. 0. 0. 0. 0. 1. 1. 0. 0. 1.\n",
      " 0. 0. 1. 0. 1. 1. 1. 0. 0. 1. 1. 1. 0. 1. 0. 1. 0. 1. 0. 0. 0. 0. 1. 0.]\n"
     ]
    }
   ],
   "source": [
    "dataset = np.loadtxt('pima-indians-diabetes.csv.txt', delimiter=',')\n",
    "X = dataset[:,0:8]    # index 0 to 7 = first 8 columns (all rows and coloumn till 7) # X Input value/input features =8\n",
    "y = dataset[:,8]      # only column at index 8 ((all rows and only 8th coloumn)     # y Target value = 1\n",
    "                                                         # y = f (X)\n",
    "print(dataset) \n",
    "print(X) \n",
    "print(y) "
   ]
  },
  {
   "cell_type": "markdown",
   "id": "372475a1",
   "metadata": {},
   "source": [
    "# To convert, create a tensor out of NumPy arrays (EXTRA)\n",
    "\n",
    "#PyTorch tensors first\n",
    "#One reason is PyTorch operates in a 32-bit floating point while NumPy, by default, uses a 64-bit floating point.\n",
    "#'reshape' operation used to change shape of y tensor. into a two-dimensional tensor where the number of rows is determined by -1 and the number of columns is set to 1 "
   ]
  },
  {
   "cell_type": "code",
   "execution_count": 3,
   "id": "860cd198",
   "metadata": {},
   "outputs": [],
   "source": [
    "X = torch.tensor(X, dtype=torch.float32)\n",
    "y = torch.tensor(y, dtype=torch.float32).reshape(-1, 1)"
   ]
  },
  {
   "cell_type": "markdown",
   "id": "c70ad89c",
   "metadata": {},
   "source": [
    "# Building or creating model  "
   ]
  },
  {
   "cell_type": "code",
   "execution_count": 4,
   "id": "5d4f9681",
   "metadata": {},
   "outputs": [
    {
     "name": "stdout",
     "output_type": "stream",
     "text": [
      "PimaClassifier(\n",
      "  (hidden1): Linear(in_features=8, out_features=12, bias=True)\n",
      "  (act1): ReLU()\n",
      "  (hidden2): Linear(in_features=12, out_features=8, bias=True)\n",
      "  (act2): ReLU()\n",
      "  (output): Linear(in_features=8, out_features=1, bias=True)\n",
      "  (act_output): Sigmoid()\n",
      ")\n"
     ]
    }
   ],
   "source": [
    "class PimaClassifier(nn.Module):\n",
    "    def __init__(self):\n",
    "        super().__init__()\n",
    "        self.hidden1 = nn.Linear(8, 12) # input = 8 , input layer neuron = 12 \n",
    "        self.act1 = nn.ReLU()           # Activation function = ReLU  \n",
    "        self.hidden2 = nn.Linear(12, 8) # 12 then  first hidden layer neuron = 12\n",
    "        self.act2 = nn.ReLU()           # Activation function = ReLU \n",
    "        self.output = nn.Linear(8, 1)   # 8 then output layer neuron = 1 \n",
    "        self.act_output = nn.Sigmoid()  #Activation function = sigmoid \n",
    " \n",
    "    def forward(self, x):   # forward function, x tensor \n",
    "        x = self.act1(self.hidden1(x))\n",
    "        x = self.act2(self.hidden2(x))\n",
    "        x = self.act_output(self.output(x))\n",
    "        return x\n",
    " \n",
    " model = PimaClassifier()\n",
    "print(model) "
   ]
  },
  {
   "cell_type": "markdown",
   "id": "97c136b3",
   "metadata": {},
   "source": [
    "# Compile the model "
   ]
  },
  {
   "cell_type": "code",
   "execution_count": 5,
   "id": "b9218c47",
   "metadata": {},
   "outputs": [],
   "source": [
    "loss_fn = nn.BCELoss()  # binary cross entropy\n",
    "optimizer = optim.Adam(model.parameters(), lr=0.001)   # adam, gradient descent \n",
    "\n",
    "# loss calculation= model_predictions, ground_truth # metric to measure the prediction’s distance to y\n",
    "# learning rate = lr = 0.001\n",
    "# optimizer: The Algorithm use to adjust the model weights progressively to produce better output.  "
   ]
  },
  {
   "cell_type": "markdown",
   "id": "9cd00646",
   "metadata": {},
   "source": [
    "# Fit the model  (train the model/model training)"
   ]
  },
  {
   "cell_type": "markdown",
   "id": "0ebdb995",
   "metadata": {},
   "source": [
    "#Epoch: Passes the entire training dataset to the model once\n",
    "#Batch: One or more samples passed to the model, from which the gradient descent algorithm will be executed for one iteration.\n",
    "\n",
    "*The entire dataset is split into batches, and you pass the batches one by one into a model using a training loop. Once you have exhausted all the batches, you have finished one epoch.Then you can start over again with the same dataset and start the second epoch, continuing to refine the model. This process repeats until you are satisfied with the model’s output.\n",
    "\n",
    "*epochs and iterations are related but represent different concepts in neural network training. An epoch is a complete pass through the dataset, and iterations are the smaller steps within each epoch, where model parameters are updated based on a batch of data.\n",
    "\n",
    "*the amount of error reducing when in the later epochs, but it will eventually level out. This is called model convergence. "
   ]
  },
  {
   "cell_type": "code",
   "execution_count": 6,
   "id": "67538c78",
   "metadata": {},
   "outputs": [
    {
     "name": "stdout",
     "output_type": "stream",
     "text": [
      "Epoch [1/100], Loss: 0.557277262210846, Accuracy: 0.6796875\n",
      "Epoch [2/100], Loss: 0.5193186402320862, Accuracy: 0.671875\n",
      "Epoch [3/100], Loss: 0.4965742230415344, Accuracy: 0.6783854365348816\n",
      "Epoch [4/100], Loss: 0.5018132925033569, Accuracy: 0.6783854365348816\n",
      "Epoch [5/100], Loss: 0.4986136257648468, Accuracy: 0.68359375\n",
      "Epoch [6/100], Loss: 0.4990239143371582, Accuracy: 0.6848958134651184\n",
      "Epoch [7/100], Loss: 0.5153252482414246, Accuracy: 0.6901041865348816\n",
      "Epoch [8/100], Loss: 0.5135143399238586, Accuracy: 0.6966145634651184\n",
      "Epoch [9/100], Loss: 0.5126662850379944, Accuracy: 0.6979166865348816\n",
      "Epoch [10/100], Loss: 0.5189967751502991, Accuracy: 0.7018229365348816\n",
      "Epoch [11/100], Loss: 0.5227711796760559, Accuracy: 0.6940104365348816\n",
      "Epoch [12/100], Loss: 0.5085604190826416, Accuracy: 0.7083333134651184\n",
      "Epoch [13/100], Loss: 0.5068569779396057, Accuracy: 0.71484375\n",
      "Epoch [14/100], Loss: 0.509658694267273, Accuracy: 0.71484375\n",
      "Epoch [15/100], Loss: 0.49690139293670654, Accuracy: 0.7135416865348816\n",
      "Epoch [16/100], Loss: 0.5004637837409973, Accuracy: 0.7109375\n",
      "Epoch [17/100], Loss: 0.5041595101356506, Accuracy: 0.71875\n",
      "Epoch [18/100], Loss: 0.5054622292518616, Accuracy: 0.71875\n",
      "Epoch [19/100], Loss: 0.49901047348976135, Accuracy: 0.7213541865348816\n",
      "Epoch [20/100], Loss: 0.4912731349468231, Accuracy: 0.7200520634651184\n",
      "Epoch [21/100], Loss: 0.49265289306640625, Accuracy: 0.72265625\n",
      "Epoch [22/100], Loss: 0.49050015211105347, Accuracy: 0.7252604365348816\n",
      "Epoch [23/100], Loss: 0.4961696267127991, Accuracy: 0.7213541865348816\n",
      "Epoch [24/100], Loss: 0.4762588143348694, Accuracy: 0.7252604365348816\n",
      "Epoch [25/100], Loss: 0.47371456027030945, Accuracy: 0.7265625\n",
      "Epoch [26/100], Loss: 0.4928411841392517, Accuracy: 0.7291666865348816\n",
      "Epoch [27/100], Loss: 0.45951926708221436, Accuracy: 0.7291666865348816\n",
      "Epoch [28/100], Loss: 0.48131272196769714, Accuracy: 0.7291666865348816\n",
      "Epoch [29/100], Loss: 0.45890384912490845, Accuracy: 0.7265625\n",
      "Epoch [30/100], Loss: 0.46726682782173157, Accuracy: 0.7317708134651184\n",
      "Epoch [31/100], Loss: 0.4569355547428131, Accuracy: 0.7330729365348816\n",
      "Epoch [32/100], Loss: 0.4500885605812073, Accuracy: 0.73828125\n",
      "Epoch [33/100], Loss: 0.4319421350955963, Accuracy: 0.7447916865348816\n",
      "Epoch [34/100], Loss: 0.4493715465068817, Accuracy: 0.7434895634651184\n",
      "Epoch [35/100], Loss: 0.4471346437931061, Accuracy: 0.74609375\n",
      "Epoch [36/100], Loss: 0.45490264892578125, Accuracy: 0.7434895634651184\n",
      "Epoch [37/100], Loss: 0.46058598160743713, Accuracy: 0.7447916865348816\n",
      "Epoch [38/100], Loss: 0.45417654514312744, Accuracy: 0.7447916865348816\n",
      "Epoch [39/100], Loss: 0.4444328844547272, Accuracy: 0.7421875\n",
      "Epoch [40/100], Loss: 0.4453016519546509, Accuracy: 0.7473958134651184\n",
      "Epoch [41/100], Loss: 0.4656982421875, Accuracy: 0.7408854365348816\n",
      "Epoch [42/100], Loss: 0.44527631998062134, Accuracy: 0.7447916865348816\n",
      "Epoch [43/100], Loss: 0.4422062933444977, Accuracy: 0.7473958134651184\n",
      "Epoch [44/100], Loss: 0.43141239881515503, Accuracy: 0.75\n",
      "Epoch [45/100], Loss: 0.4378649890422821, Accuracy: 0.75\n",
      "Epoch [46/100], Loss: 0.43363264203071594, Accuracy: 0.74609375\n",
      "Epoch [47/100], Loss: 0.42907974123954773, Accuracy: 0.75\n",
      "Epoch [48/100], Loss: 0.42224523425102234, Accuracy: 0.7526041865348816\n",
      "Epoch [49/100], Loss: 0.41172662377357483, Accuracy: 0.7486979365348816\n",
      "Epoch [50/100], Loss: 0.41621068120002747, Accuracy: 0.7526041865348816\n",
      "Epoch [51/100], Loss: 0.40036606788635254, Accuracy: 0.7473958134651184\n",
      "Epoch [52/100], Loss: 0.4150000810623169, Accuracy: 0.7473958134651184\n",
      "Epoch [53/100], Loss: 0.38866475224494934, Accuracy: 0.7513020634651184\n",
      "Epoch [54/100], Loss: 0.406070351600647, Accuracy: 0.7578125\n",
      "Epoch [55/100], Loss: 0.3864189386367798, Accuracy: 0.75\n",
      "Epoch [56/100], Loss: 0.40609076619148254, Accuracy: 0.7591145634651184\n",
      "Epoch [57/100], Loss: 0.39328792691230774, Accuracy: 0.7565104365348816\n",
      "Epoch [58/100], Loss: 0.3972224295139313, Accuracy: 0.7552083134651184\n",
      "Epoch [59/100], Loss: 0.373780220746994, Accuracy: 0.7552083134651184\n",
      "Epoch [60/100], Loss: 0.3970435857772827, Accuracy: 0.7630208134651184\n",
      "Epoch [61/100], Loss: 0.3915432393550873, Accuracy: 0.7630208134651184\n",
      "Epoch [62/100], Loss: 0.3917834460735321, Accuracy: 0.765625\n",
      "Epoch [63/100], Loss: 0.3881746828556061, Accuracy: 0.76171875\n",
      "Epoch [64/100], Loss: 0.38964158296585083, Accuracy: 0.7643229365348816\n",
      "Epoch [65/100], Loss: 0.37370872497558594, Accuracy: 0.7643229365348816\n",
      "Epoch [66/100], Loss: 0.38289421796798706, Accuracy: 0.76171875\n",
      "Epoch [67/100], Loss: 0.3728119432926178, Accuracy: 0.7669270634651184\n",
      "Epoch [68/100], Loss: 0.37045347690582275, Accuracy: 0.7643229365348816\n",
      "Epoch [69/100], Loss: 0.3658233880996704, Accuracy: 0.7643229365348816\n",
      "Epoch [70/100], Loss: 0.3753190040588379, Accuracy: 0.7643229365348816\n",
      "Epoch [71/100], Loss: 0.36549901962280273, Accuracy: 0.7682291865348816\n",
      "Epoch [72/100], Loss: 0.3682843744754791, Accuracy: 0.7708333134651184\n",
      "Epoch [73/100], Loss: 0.3595387637615204, Accuracy: 0.7682291865348816\n",
      "Epoch [74/100], Loss: 0.36433085799217224, Accuracy: 0.7669270634651184\n",
      "Epoch [75/100], Loss: 0.35905781388282776, Accuracy: 0.7643229365348816\n",
      "Epoch [76/100], Loss: 0.35923629999160767, Accuracy: 0.7682291865348816\n",
      "Epoch [77/100], Loss: 0.3636331558227539, Accuracy: 0.76953125\n",
      "Epoch [78/100], Loss: 0.3561353087425232, Accuracy: 0.7708333134651184\n",
      "Epoch [79/100], Loss: 0.3584532141685486, Accuracy: 0.7747395634651184\n",
      "Epoch [80/100], Loss: 0.3529592454433441, Accuracy: 0.7721354365348816\n",
      "Epoch [81/100], Loss: 0.35605180263519287, Accuracy: 0.7747395634651184\n",
      "Epoch [82/100], Loss: 0.354051411151886, Accuracy: 0.7721354365348816\n",
      "Epoch [83/100], Loss: 0.35535359382629395, Accuracy: 0.7721354365348816\n",
      "Epoch [84/100], Loss: 0.3483039438724518, Accuracy: 0.7721354365348816\n",
      "Epoch [85/100], Loss: 0.3495863974094391, Accuracy: 0.7721354365348816\n",
      "Epoch [86/100], Loss: 0.35389602184295654, Accuracy: 0.76953125\n",
      "Epoch [87/100], Loss: 0.3534092903137207, Accuracy: 0.7708333134651184\n",
      "Epoch [88/100], Loss: 0.347737193107605, Accuracy: 0.7734375\n",
      "Epoch [89/100], Loss: 0.3507857024669647, Accuracy: 0.7747395634651184\n",
      "Epoch [90/100], Loss: 0.3468630909919739, Accuracy: 0.7682291865348816\n",
      "Epoch [91/100], Loss: 0.3448941707611084, Accuracy: 0.7721354365348816\n",
      "Epoch [92/100], Loss: 0.34601467847824097, Accuracy: 0.7747395634651184\n",
      "Epoch [93/100], Loss: 0.34101223945617676, Accuracy: 0.7747395634651184\n",
      "Epoch [94/100], Loss: 0.3456331789493561, Accuracy: 0.76953125\n",
      "Epoch [95/100], Loss: 0.3434005379676819, Accuracy: 0.7734375\n",
      "Epoch [96/100], Loss: 0.34587720036506653, Accuracy: 0.7734375\n",
      "Epoch [97/100], Loss: 0.3433845043182373, Accuracy: 0.7708333134651184\n",
      "Epoch [98/100], Loss: 0.33899155259132385, Accuracy: 0.77734375\n",
      "Epoch [99/100], Loss: 0.34242695569992065, Accuracy: 0.7734375\n",
      "Epoch [100/100], Loss: 0.34161996841430664, Accuracy: 0.7682291865348816\n"
     ]
    }
   ],
   "source": [
    "loss_values = []\n",
    "accuracy_values = []\n",
    "\n",
    "n_epochs = 100\n",
    "batch_size = 10\n",
    " \n",
    "for epoch in range(n_epochs):\n",
    "    for i in range(0, len(X), batch_size):\n",
    "        Xbatch = X[i:i+batch_size]\n",
    "        y_pred = model(Xbatch)\n",
    "        ybatch = y[i:i+batch_size]\n",
    "        loss = loss_fn(y_pred, ybatch)\n",
    "        optimizer.zero_grad()\n",
    "        loss.backward()\n",
    "        optimizer.step()\n",
    "    #print(f'Finished epoch {epoch}, latest loss {loss}')   \n",
    "    \n",
    "# LOOP USED IN PYTORCH WHILE FITTING THE MODEL\n",
    "# epochs = 100\n",
    "# batch size = 10 \n",
    "\n",
    "    # Calculate accuracy after each epoch\n",
    "    y_pred = model(X)\n",
    "    accuracy = (y_pred.round() == y).float().mean()\n",
    "    \n",
    "    # Append loss and accuracy to the lists\n",
    "    loss_values.append(loss.item())\n",
    "    accuracy_values.append(accuracy.item())\n",
    "    \n",
    "    print(f\"Epoch [{epoch + 1}/{n_epochs}], Loss: {loss.item()}, Accuracy: {accuracy.item()}\")\n"
   ]
  },
  {
   "cell_type": "markdown",
   "id": "9e0a0b4b",
   "metadata": {},
   "source": [
    "# Evaluate the model (testing model on test data/unseen data)\n",
    "\n",
    "*have trained our neural network on the entire dataset, and also, evaluated the performance of the network on the same dataset.\n",
    "This was done for simplicity, but ideally, you could separate your data into train and test datasets for training and evaluation of your model. "
   ]
  },
  {
   "cell_type": "code",
   "execution_count": 7,
   "id": "f6a65f7f",
   "metadata": {},
   "outputs": [
    {
     "name": "stdout",
     "output_type": "stream",
     "text": [
      "Accuracy 0.7682291865348816\n"
     ]
    }
   ],
   "source": [
    "#compute accuracy (no_grad is optional)\n",
    "with torch.no_grad():\n",
    "    y_pred = model(X)        #  y_pred = Making prediction on X (after passing through model)\n",
    " \n",
    "accuracy = (y_pred.round() == y).float().mean() \n",
    "print(f\"Accuracy {accuracy}\")\n"
   ]
  },
  {
   "cell_type": "code",
   "execution_count": 8,
   "id": "428d9344",
   "metadata": {},
   "outputs": [
    {
     "data": {
      "image/png": "[encoded data removed]",
      "text/plain": [
       "<Figure size 1000x400 with 2 Axes>"
      ]
     },
     "metadata": {},
     "output_type": "display_data"
    }
   ],
   "source": [
    "# Plot the learning curve\n",
    "plt.figure(figsize=(10, 4))\n",
    "plt.subplot(1, 2, 1)\n",
    "plt.plot(range(1, n_epochs + 1), loss_values, marker='o', linestyle='-')\n",
    "plt.xlabel('Epochs')\n",
    "plt.ylabel('Loss')\n",
    "plt.title('Training Loss Curve')\n",
    "\n",
    "plt.subplot(1, 2, 2)\n",
    "plt.plot(range(1, n_epochs + 1), accuracy_values, marker='o', linestyle='-')\n",
    "plt.xlabel('Epochs')\n",
    "plt.ylabel('Accuracy')\n",
    "plt.title('Training Accuracy Curve')\n",
    "\n",
    "plt.tight_layout()\n",
    "plt.show()\n"
   ]
  },
  {
   "cell_type": "markdown",
   "id": "eeb460de",
   "metadata": {},
   "source": [
    "# Make Predictions with the model"
   ]
  },
  {
   "cell_type": "code",
   "execution_count": 9,
   "id": "7837a8de",
   "metadata": {},
   "outputs": [
    {
     "name": "stdout",
     "output_type": "stream",
     "text": [
      "[6.0, 148.0, 72.0, 35.0, 0.0, 33.599998474121094, 0.6269999742507935, 50.0] => 1 (expected 1)\n",
      "[1.0, 85.0, 66.0, 29.0, 0.0, 26.600000381469727, 0.35100001096725464, 31.0] => 0 (expected 0)\n",
      "[8.0, 183.0, 64.0, 0.0, 0.0, 23.299999237060547, 0.671999990940094, 32.0] => 1 (expected 1)\n",
      "[1.0, 89.0, 66.0, 23.0, 94.0, 28.100000381469727, 0.16699999570846558, 21.0] => 0 (expected 0)\n",
      "[0.0, 137.0, 40.0, 35.0, 168.0, 43.099998474121094, 2.2880001068115234, 33.0] => 1 (expected 1)\n"
     ]
    }
   ],
   "source": [
    "# make class predictions with the model\n",
    "predictions = (model(X) > 0.5).int()                \n",
    "for i in range(5):\n",
    "    print('%s => %d (expected %d)' % (X[i].tolist(), predictions[i], y[i]))"
   ]
  }
 ],
 "metadata": {
  "kernelspec": {
   "display_name": "Python 3 (ipykernel)",
   "language": "python",
   "name": "python3"
  },
  "language_info": {
   "codemirror_mode": {
    "name": "ipython",
    "version": 3
   },
   "file_extension": ".py",
   "mimetype": "text/x-python",
   "name": "python",
   "nbconvert_exporter": "python",
   "pygments_lexer": "ipython3",
   "version": "3.11.5"
  }
 },
 "nbformat": 4,
 "nbformat_minor": 5
}
