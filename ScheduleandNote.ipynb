{
 "cells": [
  {
   "cell_type": "markdown",
   "id": "85ab5a72",
   "metadata": {},
   "source": [
    "\n",
    "\n",
    "\n",
    "\n",
    "\n",
    "**4th August to 14th August, 2023\n",
    "\n",
    "(i) SciMLWorkshop_practice_Tensorflow_corrected\n",
    "(ii)SciMLWorkshop_practice_Pytorch_corrected\n",
    "(iii)SciMLWorkshop_Pytorch_Halfdata_LHS\n",
    "(iv)SciMLWorkshop_Pytorch_Halfdata_of_whole_x data points \n",
    "(v)Sincfunction_stepbystep\n",
    "(vi) Sincfunction_x<2.5 \n",
    "(vii)Sincfunction_x<.5 \n",
    "(viii) Presentation update\n",
    "\n",
    "\n",
    "\n",
    "\n",
    "\n",
    "\n"
   ]
  }
 ],
 "metadata": {
  "kernelspec": {
   "display_name": "Python 3 (ipykernel)",
   "language": "python",
   "name": "python3"
  },
  "language_info": {
   "codemirror_mode": {
    "name": "ipython",
    "version": 3
   },
   "file_extension": ".py",
   "mimetype": "text/x-python",
   "name": "python",
   "nbconvert_exporter": "python",
   "pygments_lexer": "ipython3",
   "version": "3.10.9"
  }
 },
 "nbformat": 4,
 "nbformat_minor": 5
}
