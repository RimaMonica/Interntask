{
 "cells": [
  {
   "cell_type": "markdown",
   "id": "bd89a0c3",
   "metadata": {},
   "source": [
    "September to 0ct 4th\n",
    "1. NN\n",
    "(i) Hyperparameters tunning [SiML workshop] (Pytorch)\n",
    "(ii)Learning curve in log scale [SiML workshop] (TensorFlow Vs Pytorch)  \n",
    "(iii)Adaptive learning rate     [SiML workshop]   (TensorFlow Vs Pytorch) \n",
    "2. Pytorch\n",
    "(i) example (Pytorch) [binary classification problem_Pytorch] \n",
    "3. PINN \n",
    "(i) examples ( Pytorch ) [1D damped harmonic oscillator_NN&PINN], [y_equals_x2_200]"
   ]
  }
 ],
 "metadata": {
  "kernelspec": {
   "display_name": "Python 3 (ipykernel)",
   "language": "python",
   "name": "python3"
  },
  "language_info": {
   "codemirror_mode": {
    "name": "ipython",
    "version": 3
   },
   "file_extension": ".py",
   "mimetype": "text/x-python",
   "name": "python",
   "nbconvert_exporter": "python",
   "pygments_lexer": "ipython3",
   "version": "3.11.5"
  }
 },
 "nbformat": 4,
 "nbformat_minor": 5
}
